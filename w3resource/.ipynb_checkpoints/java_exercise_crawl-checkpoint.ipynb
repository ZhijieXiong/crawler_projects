{
 "cells": [
  {
   "cell_type": "code",
   "execution_count": 1,
   "id": "02df75ec",
   "metadata": {},
   "outputs": [],
   "source": [
    "import requests\n",
    "from lxml import etree\n",
    "import time"
   ]
  },
  {
   "cell_type": "code",
   "execution_count": 2,
   "id": "b98e57c3",
   "metadata": {},
   "outputs": [],
   "source": [
    "headers = {\n",
    "    \"User-Agent\": \"Mozilla/5.0 (Macintosh; Intel Mac OS X 10_15_7) AppleWebKit/537.36 (KHTML, like Gecko) Chrome/105.0.0.0 Safari/537.36\",\n",
    "    \"Referer\": \"https://www.w3resource.com/java-exercises/index.php\",\n",
    "    \"Accept\": \"text/html,application/xhtml+xml,application/xml;q=0.9,image/avif,image/webp,image/apng,*/*;q=0.8,application/signed-exchange;v=b3;q=0.9\",\n",
    "    \"Cookie\": \"cookieconsent_dismissed=yes; _ga=GA1.1.951155699.1662966123; __gads=ID=e4a9ceed58af0db0-22e8c0e363d600fa:T=1662966123:RT=1662966123:S=ALNI_Mb8ekgDHdeUAOiYpiP2b5aOv2bZoQ; __gpi=UID=000009bc08a12cd1:T=1662966123:RT=1665412442:S=ALNI_MZsq5XVOMV4gXv29odQuujZZsSr2g; _ga_HCW88J419P=GS1.1.1665459271.4.0.1665459271.0.0.0\"\n",
    "}"
   ]
  },
  {
   "cell_type": "code",
   "execution_count": 3,
   "id": "71da1ce0",
   "metadata": {},
   "outputs": [],
   "source": [
    "index_response = requests.get(\"https://www.w3resource.com/java-exercises/index.php\")"
   ]
  },
  {
   "cell_type": "code",
   "execution_count": 4,
   "id": "40a02236",
   "metadata": {},
   "outputs": [],
   "source": [
    "index_html = etree.HTML(index_response.content.decode(\"utf-8\"))"
   ]
  },
  {
   "cell_type": "code",
   "execution_count": 5,
   "id": "7bec3118",
   "metadata": {},
   "outputs": [],
   "source": [
    "exercises_category = index_html.xpath(\"//ul[@class=\\\"nav nav-list\\\"]/li/a/text()\")[2:17]\n",
    "exercises_category_href = index_html.xpath(\"//ul[@class=\\\"nav nav-list\\\"]/li/a/@href\")[2:17]"
   ]
  },
  {
   "cell_type": "code",
   "execution_count": 6,
   "id": "31605506",
   "metadata": {},
   "outputs": [],
   "source": [
    "exercise_links = dict(zip(map(lambda category: category.strip() ,exercises_category), \n",
    "         map(lambda position: \"https://www.w3resource.com\" + position, exercises_category_href)))"
   ]
  },
  {
   "cell_type": "code",
   "execution_count": 7,
   "id": "c9583861",
   "metadata": {},
   "outputs": [
    {
     "data": {
      "text/plain": [
       "{'Basic Part-I': 'https://www.w3resource.com/java-exercises/basic/index.php',\n",
       " 'Basic Part-II': 'https://www.w3resource.com/java-exercises/basic/index1.php',\n",
       " 'Data Types': 'https://www.w3resource.com/java-exercises/datatypes/index.php',\n",
       " 'Conditional Statement': 'https://www.w3resource.com/java-exercises/conditional-statement/index.php',\n",
       " 'Array': 'https://www.w3resource.com/java-exercises/array/index.php',\n",
       " 'String': 'https://www.w3resource.com/java-exercises/string/index.php',\n",
       " 'Date Time': 'https://www.w3resource.com/java-exercises/datetime/index.php',\n",
       " 'Method': 'https://www.w3resource.com/java-exercises/method/index.php',\n",
       " 'Numbers': 'https://www.w3resource.com/java-exercises/numbers/index.php',\n",
       " 'File Input-Output': 'https://www.w3resource.com/java-exercises/io/index.php',\n",
       " 'Collection': 'https://www.w3resource.com/java-exercises/collection/index.php',\n",
       " 'Math': 'https://www.w3resource.com/java-exercises/math/index.php',\n",
       " 'Sorting': 'https://www.w3resource.com/java-exercises/sorting/index.php',\n",
       " 'Search': 'https://www.w3resource.com/java-exercises/search/index.php',\n",
       " 'Regular Expression': 'https://www.w3resource.com/java-exercises/re/index.php'}"
      ]
     },
     "execution_count": 7,
     "metadata": {},
     "output_type": "execute_result"
    }
   ],
   "source": [
    "exercise_links"
   ]
  },
  {
   "cell_type": "code",
   "execution_count": 8,
   "id": "f54623a8",
   "metadata": {},
   "outputs": [
    {
     "data": {
      "text/plain": [
       "{'Basic Part-I': 'https://www.w3resource.com/java-exercises/basic',\n",
       " 'Basic Part-II': 'https://www.w3resource.com/java-exercises/basic',\n",
       " 'Data Types': 'https://www.w3resource.com/java-exercises/datatypes',\n",
       " 'Conditional Statement': 'https://www.w3resource.com/java-exercises/conditional-statement',\n",
       " 'Array': 'https://www.w3resource.com/java-exercises/array',\n",
       " 'String': 'https://www.w3resource.com/java-exercises/string',\n",
       " 'Date Time': 'https://www.w3resource.com/java-exercises/datetime',\n",
       " 'Method': 'https://www.w3resource.com/java-exercises/method',\n",
       " 'Numbers': 'https://www.w3resource.com/java-exercises/numbers',\n",
       " 'File Input-Output': 'https://www.w3resource.com/java-exercises/io',\n",
       " 'Collection': 'https://www.w3resource.com/java-exercises/collection',\n",
       " 'Math': 'https://www.w3resource.com/java-exercises/math',\n",
       " 'Sorting': 'https://www.w3resource.com/java-exercises/sorting',\n",
       " 'Search': 'https://www.w3resource.com/java-exercises/search',\n",
       " 'Regular Expression': 'https://www.w3resource.com/java-exercises/re'}"
      ]
     },
     "execution_count": 8,
     "metadata": {},
     "output_type": "execute_result"
    }
   ],
   "source": [
    "exercise_solution_links_prefix = {}\n",
    "for key in exercise_links.keys():\n",
    "    link = exercise_links[key]\n",
    "    exercise_solution_links_prefix[key] = link[0: link.rfind('/')]\n",
    "exercise_solution_links_prefix"
   ]
  },
  {
   "cell_type": "code",
   "execution_count": 9,
   "id": "903119d1",
   "metadata": {},
   "outputs": [],
   "source": [
    "strong_element_texts = [\"Input\", \"Output\"]\n",
    "all_exercises = {\n",
    "    \"Collection\": {}\n",
    "}\n",
    "for category in exercise_links.keys():\n",
    "    link = exercise_links[category]\n",
    "    exercise_page_response = requests.get(link, headers=headers)\n",
    "    exercise_page_html = etree.HTML(exercise_page_response.content.decode(\"utf-8\"))\n",
    "    if category == \"Collection\":\n",
    "        article_elements = exercise_page_html.xpath(\"//article/*\")[0:-4]\n",
    "        subhead = None\n",
    "        for element in article_elements:\n",
    "            if element.tag == \"h2\" and element.attrib.get(\"class\") == \"subheading\":\n",
    "                subhead = etree.tostring(element, encoding=\"utf-8\", method=\"text\").decode(\"utf-8\")\n",
    "                all_exercises[\"Collection\"][subhead] = []\n",
    "            elif subhead != None:\n",
    "                exercise = {}\n",
    "                exercise[\"qid\"] = int(element.find(\"./strong\").text.strip().strip(\".\"))\n",
    "                exercise[\"content_element\"] = element\n",
    "                all_exercises[\"Collection\"][subhead].append(exercise)\n",
    "    else:\n",
    "        start = 5 if len(exercise_page_html.xpath(\"//article/p[@class=\\\"heading\\\"]\")) == 0 else 6\n",
    "        if category == \"String\":\n",
    "            start = 6\n",
    "        article_elements = exercise_page_html.xpath(\"//article/*\")[start:-4]\n",
    "        exercises = []\n",
    "        last_exercise = {}\n",
    "        for element in article_elements:\n",
    "            strong_element = element.find(\"./strong\")\n",
    "            if strong_element != None:\n",
    "                strong_element_text = strong_element.text.strip().strip(\":\")\n",
    "            if strong_element != None and strong_element_text not in strong_element_texts:\n",
    "                exercise = {}\n",
    "                exercise[\"qid\"] = int(element.find(\"./strong\").text.strip().strip(\".\"))\n",
    "                exercise[\"content_elements\"] = [element]\n",
    "                last_exercise = exercise\n",
    "                exercises.append(exercise)\n",
    "            else:\n",
    "                last_exercise[\"content_elements\"].append(element)\n",
    "        all_exercises[category] = exercises\n",
    "    time.sleep(2)"
   ]
  },
  {
   "cell_type": "code",
   "execution_count": 10,
   "id": "9d406ead",
   "metadata": {},
   "outputs": [
    {
     "name": "stdout",
     "output_type": "stream",
     "text": [
      "Number of exercises: 813\n"
     ]
    }
   ],
   "source": [
    "exercise_number = 0\n",
    "for key in all_exercises.keys():\n",
    "    if key == \"Collection\":\n",
    "        for subhead in all_exercises[key].keys():\n",
    "            exercise_number += len(all_exercises[key][subhead])\n",
    "    else:\n",
    "        exercise_number += len(all_exercises[key])\n",
    "print(\"Number of exercises: {}\".format(exercise_number))"
   ]
  },
  {
   "cell_type": "code",
   "execution_count": 11,
   "id": "d7d4aebc",
   "metadata": {},
   "outputs": [],
   "source": [
    "# 可能含有的元素：Input Data、Expected Output、Test Data、"
   ]
  },
  {
   "cell_type": "code",
   "execution_count": 13,
   "id": "c12715b0",
   "metadata": {},
   "outputs": [],
   "source": [
    "for category in all_exercises.keys():\n",
    "    solution_prefix = exercise_solution_links_prefix[category]\n",
    "    if category != \"Collection\":\n",
    "        category_exercises = all_exercises[category]\n",
    "        for exercise in category_exercises:\n",
    "            exercise_elements = exercise[\"content_elements\"]\n",
    "            for element in exercise_elements:\n",
    "                a_tags = element.findall(\"./a\")\n",
    "                for a_tag in a_tags:\n",
    "                    a_text = etree.tostring(a_tag, encoding=\"utf-8\", method=\"text\").decode(\"utf-8\")\n",
    "                    if a_text.find(\"Click me to see the solution\") != -1:\n",
    "                        exercise[\"solution_link\"] = solution_prefix + \"/\" + a_tag.attrib.get(\"href\")\n",
    "    else:\n",
    "        collection_exercises = all_exercises[\"Collection\"]\n",
    "        for collection_sub_exercises in collection_exercises.values():\n",
    "            for exercise in collection_sub_exercises:\n",
    "                exercise_element = exercise[\"content_element\"]\n",
    "                a_tags = exercise_element.findall(\"./a\")\n",
    "                for a_tag in a_tags:\n",
    "                    a_text = etree.tostring(a_tag, encoding=\"utf-8\", method=\"text\").decode(\"utf-8\")\n",
    "                    if a_text.find(\"Click me to see the solution\") != -1:\n",
    "                        exercise[\"solution_link\"] = solution_prefix + \"/\" + a_tag.attrib.get(\"href\")\n",
    "        "
   ]
  },
  {
   "cell_type": "code",
   "execution_count": 15,
   "id": "c629cd9f",
   "metadata": {},
   "outputs": [],
   "source": [
    "for category in all_exercises.keys():\n",
    "    if category != \"Collection\":\n",
    "        category_exercises = all_exercises[category]\n",
    "        for exercise in category_exercises:\n",
    "            text = \"\"\n",
    "            for element in exercise[\"content_elements\"]:\n",
    "                text_part = etree.tostring(element, encoding=\"utf-8\", method=\"text\").decode(\"utf-8\")\n",
    "                text_part = text_part.replace(\"Go to the editor\", \"\").replace(\"Click me to see the solution\", \"\").strip()\n",
    "                if text_part:\n",
    "                    text += text_part\n",
    "            exercise[\"content\"] = text\n",
    "    else:\n",
    "        collection_exercises = all_exercises[\"Collection\"]\n",
    "        for collection_sub_exercises in collection_exercises.values():\n",
    "            for exercise in collection_sub_exercises:\n",
    "                text = etree.tostring(exercise[\"content_element\"], encoding=\"utf-8\", method=\"text\").decode(\"utf-8\")\n",
    "                text = text.replace(\"Go to the editor\", \"\").replace(\"Click me to see the solution\", \"\").strip()\n",
    "                exercise[\"content\"] = text"
   ]
  },
  {
   "cell_type": "code",
   "execution_count": 17,
   "id": "f8a547e1",
   "metadata": {},
   "outputs": [],
   "source": [
    "import random\n",
    "\n",
    "for category in all_exercises.keys():\n",
    "    if category != \"Collection\":\n",
    "        category_exercises = all_exercises[category]\n",
    "        for exercise in category_exercises:\n",
    "            solution_link = exercise.get(\"solution_link\", None)\n",
    "            if solution_link:\n",
    "                solution_page = requests.get(solution_link, headers=headers)\n",
    "                solution_html = etree.HTML(solution_page.content.decode(\"utf-8\"))\n",
    "                solution_code_ele = solution_html.xpath(\"//pre[@class]/code\")[0]\n",
    "                solution_code = etree.tostring(solution_code_ele, encoding=\"utf-8\", method=\"text\").decode(\"utf-8\")\n",
    "                exercise[\"solution_code\"] = solution_code\n",
    "            else:\n",
    "                exercise[\"solution_code\"] = \"\"\n",
    "                exercise[\"error\"] = \"no solution code\"\n",
    "            time.sleep(random.randint(1, 5))\n",
    "    else:\n",
    "        collection_exercises = all_exercises[\"Collection\"]\n",
    "        for collection_sub_exercises in collection_exercises.values():\n",
    "            for exercise in collection_sub_exercises:\n",
    "                solution_link = exercise.get(\"solution_link\", None)\n",
    "                if solution_link:\n",
    "                    solution_page = requests.get(solution_link, headers=headers)\n",
    "                    solution_html = etree.HTML(solution_page.content.decode(\"utf-8\"))\n",
    "                    solution_code_ele = solution_html.xpath(\"//pre[@class]/code\")[0]\n",
    "                    solution_code = etree.tostring(solution_code_ele, encoding=\"utf-8\", method=\"text\").decode(\"utf-8\")\n",
    "                    exercise[\"solution_code\"] = solution_code\n",
    "                else:\n",
    "                    exercise[\"solution_code\"] = \"\"\n",
    "                    exercise[\"error\"] = \"no solution code\"\n",
    "                time.sleep(random.randint(1, 5))\n"
   ]
  },
  {
   "cell_type": "code",
   "execution_count": 19,
   "id": "399ef50a",
   "metadata": {},
   "outputs": [
    {
     "name": "stdout",
     "output_type": "stream",
     "text": [
      "Basic Part-I: 125\n",
      "Basic Part-I: 126\n",
      "Basic Part-I: 127\n"
     ]
    }
   ],
   "source": [
    "for category in all_exercises.keys():\n",
    "    if category != \"Collection\":\n",
    "        category_exercises = all_exercises[category]\n",
    "        for exercise in category_exercises:\n",
    "            solution_code = exercise.get(\"error\", None)\n",
    "            if solution_code:\n",
    "                print(\"{}: {}\".format(category, exercise[\"qid\"]))\n",
    "    else:\n",
    "        collection_exercises = all_exercises[\"Collection\"]\n",
    "        for collection_sub_exercises in collection_exercises.values():\n",
    "            for exercise in collection_sub_exercises:\n",
    "                solution_code = exercise.get(\"error\", None)\n",
    "                if solution_code:\n",
    "                    print(\"{}: {}\".format(category, exercise[\"qid\"]))"
   ]
  },
  {
   "cell_type": "code",
   "execution_count": 36,
   "id": "c7cf697a",
   "metadata": {},
   "outputs": [],
   "source": [
    "all_exercises[\"Basic Part-I\"][124][\"solution_link\"] = \\\n",
    "        \"https://www.w3resource.com/java-exercises/basic/java-basic-exercise-125.php\"\n",
    "all_exercises[\"Basic Part-I\"][125][\"solution_link\"] = \\\n",
    "        \"https://www.w3resource.com/java-exercises/basic/java-basic-exercise-126.php\"\n",
    "all_exercises[\"Basic Part-I\"][126][\"solution_link\"] = \\\n",
    "        \"https://www.w3resource.com/java-exercises/basic/java-basic-exercise-127.php\""
   ]
  },
  {
   "cell_type": "code",
   "execution_count": 38,
   "id": "62b2b3b9",
   "metadata": {},
   "outputs": [],
   "source": [
    "solution_page = requests.get(all_exercises[\"Basic Part-I\"][124][\"solution_link\"], headers=headers)\n",
    "solution_html = etree.HTML(solution_page.content.decode(\"utf-8\"))\n",
    "solution_code_ele = solution_html.xpath(\"//pre[@class]/code\")[0]\n",
    "solution_code = etree.tostring(solution_code_ele, encoding=\"utf-8\", method=\"text\").decode(\"utf-8\")\n",
    "all_exercises[\"Basic Part-I\"][124][\"solution_code\"] = solution_code\n",
    "\n",
    "solution_page = requests.get(all_exercises[\"Basic Part-I\"][125][\"solution_link\"], headers=headers)\n",
    "solution_html = etree.HTML(solution_page.content.decode(\"utf-8\"))\n",
    "solution_code_ele = solution_html.xpath(\"//pre[@class]/code\")[0]\n",
    "solution_code = etree.tostring(solution_code_ele, encoding=\"utf-8\", method=\"text\").decode(\"utf-8\")\n",
    "all_exercises[\"Basic Part-I\"][125][\"solution_code\"] = solution_code\n",
    "\n",
    "solution_page = requests.get(all_exercises[\"Basic Part-I\"][126][\"solution_link\"], headers=headers)\n",
    "solution_html = etree.HTML(solution_page.content.decode(\"utf-8\"))\n",
    "solution_code_ele = solution_html.xpath(\"//pre[@class]/code\")[0]\n",
    "solution_code = etree.tostring(solution_code_ele, encoding=\"utf-8\", method=\"text\").decode(\"utf-8\")\n",
    "all_exercises[\"Basic Part-I\"][126][\"solution_code\"] = solution_code"
   ]
  },
  {
   "cell_type": "code",
   "execution_count": 39,
   "id": "0f14dd10",
   "metadata": {},
   "outputs": [],
   "source": [
    "data = {\"Collection\": {}}\n",
    "for category in all_exercises.keys():\n",
    "    if category != \"Collection\":\n",
    "        category_exercises = all_exercises[category]\n",
    "        data[category] = list(map(lambda exercise: dict(exercise_number=exercise[\"qid\"], \n",
    "            exercise_content=exercise[\"content\"], exercise_solution_code=exercise[\"solution_code\"],\n",
    "            exercise_solution_link=exercise[\"solution_link\"]), category_exercises))\n",
    "    else:\n",
    "        collection_exercises = all_exercises[\"Collection\"]\n",
    "        for collection_subhead in collection_exercises.keys():\n",
    "            collection_sub_exercises = all_exercises[\"Collection\"][collection_subhead]\n",
    "            data[\"Collection\"][collection_subhead] = list(map(lambda exercise: dict(exercise_number=exercise[\"qid\"], \n",
    "                exercise_content=exercise[\"content\"], exercise_solution_code=exercise[\"solution_code\"],\n",
    "                exercise_solution_link=exercise[\"solution_link\"]), collection_sub_exercises))"
   ]
  },
  {
   "cell_type": "code",
   "execution_count": 41,
   "id": "87fc4a37",
   "metadata": {},
   "outputs": [],
   "source": [
    "import os\n",
    "import json\n",
    "\n",
    "data_path = os.path.join(os.path.abspath(\"\"), \"data.json\")\n",
    "f = open(data_path, \"w\")\n",
    "f.write(json.dumps(data))\n",
    "f.close() "
   ]
  },
  {
   "cell_type": "code",
   "execution_count": 42,
   "id": "f14f14a4",
   "metadata": {},
   "outputs": [],
   "source": [
    "with open(data_path, \"r\") as f:\n",
    "    data2 = json.load(f)"
   ]
  },
  {
   "cell_type": "code",
   "execution_count": null,
   "id": "92344324",
   "metadata": {},
   "outputs": [],
   "source": []
  }
 ],
 "metadata": {
  "kernelspec": {
   "display_name": "Python 3 (ipykernel)",
   "language": "python",
   "name": "python3"
  },
  "language_info": {
   "codemirror_mode": {
    "name": "ipython",
    "version": 3
   },
   "file_extension": ".py",
   "mimetype": "text/x-python",
   "name": "python",
   "nbconvert_exporter": "python",
   "pygments_lexer": "ipython3",
   "version": "3.9.12"
  }
 },
 "nbformat": 4,
 "nbformat_minor": 5
}
